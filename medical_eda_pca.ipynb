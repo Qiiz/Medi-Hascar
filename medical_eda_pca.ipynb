{
 "cells": [
  {
   "cell_type": "markdown",
   "id": "594fabe4",
   "metadata": {},
   "source": [
    "# Inventory Optimisation Exploratory Data Analysis"
   ]
  },
  {
   "cell_type": "markdown",
   "id": "1662b9a8",
   "metadata": {},
   "source": [
    "In this kernel we'll be building a Inventory Management System using https://nhsrcindia.org/HCT-DME?page=%2C4 (Oshida state) Dataset.\n",
    "\n",
    "The model goal is to provide accurate demand forecasting which can efficiently provide a decision basis for the replenishment of stocks in a medical institution. "
   ]
  },
  {
   "cell_type": "code",
   "execution_count": null,
   "id": "e5694c41",
   "metadata": {},
   "outputs": [],
   "source": [
    "# Import libraries\n",
    "import os\n",
    "import re\n",
    "import glob\n",
    "import datetime\n",
    "\n",
    "import pandas as pd\n",
    "import numpy as np\n",
    "\n",
    "%matplotlib inline\n",
    "import matplotlib.pyplot as plt\n",
    "\n",
    "import seaborn as sns\n",
    "\n",
    "from sklearn import cluster\n",
    "from sklearn.preprocessing import LabelEncoder\n",
    "\n",
    "from sklearn.decomposition import PCA\n",
    "from pca import pca as pca_2"
   ]
  }
 ],
 "metadata": {
  "kernelspec": {
   "display_name": "Python 3 (ipykernel)",
   "language": "python",
   "name": "python3"
  },
  "language_info": {
   "codemirror_mode": {
    "name": "ipython",
    "version": 3
   },
   "file_extension": ".py",
   "mimetype": "text/x-python",
   "name": "python",
   "nbconvert_exporter": "python",
   "pygments_lexer": "ipython3",
   "version": "3.10.10"
  }
 },
 "nbformat": 4,
 "nbformat_minor": 5
}
