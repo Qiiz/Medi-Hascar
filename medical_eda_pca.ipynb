{
 "cells": [
  {
   "cell_type": "markdown",
   "id": "594fabe4",
   "metadata": {},
   "source": [
    "# Inventory Optimisation Exploratory Data Analysis"
   ]
  },
  {
   "cell_type": "markdown",
   "id": "1662b9a8",
   "metadata": {},
   "source": [
    "In this kernel we'll be building a Inventory Management System using https://nhsrcindia.org/HCT-DME?page=%2C4 (Oshida state) Dataset.\n",
    "\n",
    "The model goal is to provide accurate demand forecasting which can efficiently provide a decision basis for the replenishment of stocks in a medical institution. "
   ]
  },
  {
   "cell_type": "code",
   "execution_count": 65,
   "id": "e5694c41",
   "metadata": {},
   "outputs": [],
   "source": [
    "# Import libraries\n",
    "import os\n",
    "import re\n",
    "import glob\n",
    "import datetime\n",
    "\n",
    "import pandas as pd\n",
    "import numpy as np\n",
    "\n",
    "%matplotlib inline\n",
    "import matplotlib.pyplot as plt\n",
    "\n",
    "import seaborn as sns\n",
    "\n",
    "from sklearn import cluster\n",
    "from sklearn.preprocessing import LabelEncoder\n",
    "from sklearn.preprocessing import StandardScaler\n",
    "\n",
    "from sklearn.decomposition import PCA\n",
    "from pca import pca as pca_2"
   ]
  },
  {
   "cell_type": "markdown",
   "id": "d35e31c9-47aa-4a21-baa4-ffd4d3743c48",
   "metadata": {},
   "source": [
    "# Data Preparation"
   ]
  },
  {
   "cell_type": "markdown",
   "id": "4a04b2c7-fb41-45e9-b776-8f2d1a4621e9",
   "metadata": {},
   "source": [
    "## Part I: Identifying missing, duplicated or noisy data"
   ]
  },
  {
   "cell_type": "code",
   "execution_count": 18,
   "id": "e3554e62-9eea-48ba-8274-756816f2f79f",
   "metadata": {},
   "outputs": [
    {
     "name": "stdout",
     "output_type": "stream",
     "text": [
      "(5593, 18)\n"
     ]
    }
   ],
   "source": [
    "# load the dataset\n",
    "df = pd.read_excel(r\"data.xlsx\")\n",
    "print(df.shape)"
   ]
  },
  {
   "cell_type": "code",
   "execution_count": 19,
   "id": "56cbd585-8d1c-49db-9e2f-b65072ea27e9",
   "metadata": {},
   "outputs": [
    {
     "data": {
      "text/html": [
       "<div>\n",
       "<style scoped>\n",
       "    .dataframe tbody tr th:only-of-type {\n",
       "        vertical-align: middle;\n",
       "    }\n",
       "\n",
       "    .dataframe tbody tr th {\n",
       "        vertical-align: top;\n",
       "    }\n",
       "\n",
       "    .dataframe thead th {\n",
       "        text-align: right;\n",
       "    }\n",
       "</style>\n",
       "<table border=\"1\" class=\"dataframe\">\n",
       "  <thead>\n",
       "    <tr style=\"text-align: right;\">\n",
       "      <th></th>\n",
       "      <th>State</th>\n",
       "      <th>District</th>\n",
       "      <th>Facility</th>\n",
       "      <th>Category</th>\n",
       "      <th>Equipment Name</th>\n",
       "      <th>Cost</th>\n",
       "      <th>Serial No.</th>\n",
       "      <th>Department</th>\n",
       "      <th>Manufacturer</th>\n",
       "      <th>Model</th>\n",
       "      <th>Price</th>\n",
       "      <th>Date Of Installation</th>\n",
       "      <th>Under Warranty</th>\n",
       "      <th>Warranty Expiry Date</th>\n",
       "      <th>Functional/ Non-functional</th>\n",
       "      <th>Status</th>\n",
       "      <th>Return Date</th>\n",
       "      <th>Borrow Date</th>\n",
       "    </tr>\n",
       "  </thead>\n",
       "  <tbody>\n",
       "    <tr>\n",
       "      <th>0</th>\n",
       "      <td>Odisha</td>\n",
       "      <td>Cuttack</td>\n",
       "      <td>AHRCC(Cuttack)</td>\n",
       "      <td>Diagnostic/Monitoring</td>\n",
       "      <td>ABG</td>\n",
       "      <td>1000000.0</td>\n",
       "      <td>RG59vtM</td>\n",
       "      <td>ICU</td>\n",
       "      <td>Alera</td>\n",
       "      <td>Epoc</td>\n",
       "      <td>690900.0</td>\n",
       "      <td>2021-04-08</td>\n",
       "      <td>Yes</td>\n",
       "      <td>2026-04-07</td>\n",
       "      <td>Functional</td>\n",
       "      <td>Not Available</td>\n",
       "      <td>NaN</td>\n",
       "      <td>NaN</td>\n",
       "    </tr>\n",
       "    <tr>\n",
       "      <th>1</th>\n",
       "      <td>Odisha</td>\n",
       "      <td>Cuttack</td>\n",
       "      <td>AHRCC(Cuttack)</td>\n",
       "      <td>Diagnostic/Monitoring</td>\n",
       "      <td>ABG</td>\n",
       "      <td>1000000.0</td>\n",
       "      <td>WX17vxI</td>\n",
       "      <td>ICU</td>\n",
       "      <td>Alera</td>\n",
       "      <td>Epoc</td>\n",
       "      <td>690900.0</td>\n",
       "      <td>2021-04-08</td>\n",
       "      <td>Yes</td>\n",
       "      <td>2026-04-07</td>\n",
       "      <td>Functional</td>\n",
       "      <td>Not Available</td>\n",
       "      <td>NaN</td>\n",
       "      <td>NaN</td>\n",
       "    </tr>\n",
       "    <tr>\n",
       "      <th>2</th>\n",
       "      <td>Odisha</td>\n",
       "      <td>Cuttack</td>\n",
       "      <td>AHRCC(Cuttack)</td>\n",
       "      <td>Anestesia</td>\n",
       "      <td>ANESTESIA WORK STETION</td>\n",
       "      <td>450000.0</td>\n",
       "      <td>AL32ffX</td>\n",
       "      <td>OT</td>\n",
       "      <td>L and T  Medical Equipment and systems</td>\n",
       "      <td>615</td>\n",
       "      <td>1167685.0</td>\n",
       "      <td>2021-07-13</td>\n",
       "      <td>Yes</td>\n",
       "      <td>2023-11-11</td>\n",
       "      <td>Functional</td>\n",
       "      <td>Available</td>\n",
       "      <td>NaN</td>\n",
       "      <td>NaN</td>\n",
       "    </tr>\n",
       "    <tr>\n",
       "      <th>3</th>\n",
       "      <td>Odisha</td>\n",
       "      <td>Cuttack</td>\n",
       "      <td>AHRCC(Cuttack)</td>\n",
       "      <td>Anestesia</td>\n",
       "      <td>ANESTESIA WORK STETION</td>\n",
       "      <td>450000.0</td>\n",
       "      <td>XF82dcH</td>\n",
       "      <td>OT</td>\n",
       "      <td>L and T  Medical Equipment and systems</td>\n",
       "      <td>615</td>\n",
       "      <td>1167685.0</td>\n",
       "      <td>2021-07-13</td>\n",
       "      <td>Yes</td>\n",
       "      <td>2023-11-11</td>\n",
       "      <td>Functional</td>\n",
       "      <td>Available</td>\n",
       "      <td>NaN</td>\n",
       "      <td>NaN</td>\n",
       "    </tr>\n",
       "  </tbody>\n",
       "</table>\n",
       "</div>"
      ],
      "text/plain": [
       "    State District        Facility               Category  \\\n",
       "0  Odisha  Cuttack  AHRCC(Cuttack)  Diagnostic/Monitoring   \n",
       "1  Odisha  Cuttack  AHRCC(Cuttack)  Diagnostic/Monitoring   \n",
       "2  Odisha  Cuttack  AHRCC(Cuttack)              Anestesia   \n",
       "3  Odisha  Cuttack  AHRCC(Cuttack)              Anestesia   \n",
       "\n",
       "           Equipment Name       Cost Serial No. Department  \\\n",
       "0                     ABG  1000000.0    RG59vtM        ICU   \n",
       "1                     ABG  1000000.0    WX17vxI        ICU   \n",
       "2  ANESTESIA WORK STETION   450000.0    AL32ffX         OT   \n",
       "3  ANESTESIA WORK STETION   450000.0    XF82dcH         OT   \n",
       "\n",
       "                             Manufacturer Model      Price  \\\n",
       "0                                   Alera  Epoc   690900.0   \n",
       "1                                   Alera  Epoc   690900.0   \n",
       "2  L and T  Medical Equipment and systems   615  1167685.0   \n",
       "3  L and T  Medical Equipment and systems   615  1167685.0   \n",
       "\n",
       "  Date Of Installation Under Warranty Warranty Expiry Date  \\\n",
       "0           2021-04-08            Yes           2026-04-07   \n",
       "1           2021-04-08            Yes           2026-04-07   \n",
       "2           2021-07-13            Yes           2023-11-11   \n",
       "3           2021-07-13            Yes           2023-11-11   \n",
       "\n",
       "  Functional/ Non-functional         Status  Return Date  Borrow Date  \n",
       "0                 Functional  Not Available          NaN          NaN  \n",
       "1                 Functional  Not Available          NaN          NaN  \n",
       "2                 Functional      Available          NaN          NaN  \n",
       "3                 Functional      Available          NaN          NaN  "
      ]
     },
     "execution_count": 19,
     "metadata": {},
     "output_type": "execute_result"
    }
   ],
   "source": [
    "df.head(4)"
   ]
  },
  {
   "cell_type": "code",
   "execution_count": 20,
   "id": "0fd16e53-99e2-4bf3-b203-7399af1e6d7d",
   "metadata": {},
   "outputs": [
    {
     "name": "stdout",
     "output_type": "stream",
     "text": [
      "<class 'pandas.core.frame.DataFrame'>\n",
      "RangeIndex: 5593 entries, 0 to 5592\n",
      "Data columns (total 18 columns):\n",
      " #   Column                      Non-Null Count  Dtype         \n",
      "---  ------                      --------------  -----         \n",
      " 0   State                       5593 non-null   object        \n",
      " 1   District                    5593 non-null   object        \n",
      " 2   Facility                    5593 non-null   object        \n",
      " 3   Category                    4380 non-null   object        \n",
      " 4   Equipment Name              5593 non-null   object        \n",
      " 5   Cost                        5207 non-null   float64       \n",
      " 6   Serial No.                  5593 non-null   object        \n",
      " 7   Department                  5593 non-null   object        \n",
      " 8   Manufacturer                5568 non-null   object        \n",
      " 9   Model                       5593 non-null   object        \n",
      " 10  Price                       5593 non-null   float64       \n",
      " 11  Date Of Installation        5593 non-null   datetime64[ns]\n",
      " 12  Under Warranty              5498 non-null   object        \n",
      " 13  Warranty Expiry Date        947 non-null    datetime64[ns]\n",
      " 14  Functional/ Non-functional  5593 non-null   object        \n",
      " 15  Status                      5593 non-null   object        \n",
      " 16  Return Date                 0 non-null      float64       \n",
      " 17  Borrow Date                 0 non-null      float64       \n",
      "dtypes: datetime64[ns](2), float64(4), object(12)\n",
      "memory usage: 786.6+ KB\n"
     ]
    }
   ],
   "source": [
    "df.info()"
   ]
  },
  {
   "cell_type": "markdown",
   "id": "fc0c14b2-ab84-4404-b407-17aaecc0d309",
   "metadata": {},
   "source": [
    "> Drop 'State', 'District', 'Facility', 'Serial No.', \n",
    "       'Department','Manufacturer','Model', 'Warranty Expiry Date', \n",
    "       'Return Date', 'Borrow Date', atrributes as it is not meaningful/there are too many missing data with vague definition "
   ]
  },
  {
   "cell_type": "code",
   "execution_count": 21,
   "id": "4510a6e8-3302-4d76-97b4-b547f532e9a6",
   "metadata": {},
   "outputs": [
    {
     "name": "stdout",
     "output_type": "stream",
     "text": [
      "<class 'pandas.core.frame.DataFrame'>\n",
      "RangeIndex: 5593 entries, 0 to 5592\n",
      "Data columns (total 8 columns):\n",
      " #   Column                      Non-Null Count  Dtype         \n",
      "---  ------                      --------------  -----         \n",
      " 0   Category                    4380 non-null   object        \n",
      " 1   Equipment Name              5593 non-null   object        \n",
      " 2   Cost                        5207 non-null   float64       \n",
      " 3   Price                       5593 non-null   float64       \n",
      " 4   Date Of Installation        5593 non-null   datetime64[ns]\n",
      " 5   Under Warranty              5498 non-null   object        \n",
      " 6   Functional/ Non-functional  5593 non-null   object        \n",
      " 7   Status                      5593 non-null   object        \n",
      "dtypes: datetime64[ns](1), float64(2), object(5)\n",
      "memory usage: 349.7+ KB\n"
     ]
    }
   ],
   "source": [
    "dataset = df.drop(['State', 'District', 'Facility', 'Serial No.',\n",
    "                   'Department','Manufacturer','Model','Warranty Expiry Date',\n",
    "                   'Return Date', 'Borrow Date'], axis = 1)\n",
    "dataset.info()"
   ]
  },
  {
   "cell_type": "markdown",
   "id": "3af0eb26-5b0c-410f-9e75-ba726033348b",
   "metadata": {},
   "source": [
    "> Check 'Cost' and 'Price' attributes"
   ]
  },
  {
   "cell_type": "code",
   "execution_count": 22,
   "id": "bb229315-c41f-4b55-9dfb-2bd0482c4e70",
   "metadata": {},
   "outputs": [
    {
     "data": {
      "text/plain": [
       "Price\n",
       "0.0           2762\n",
       "250.0            1\n",
       "345.0            1\n",
       "394.0            7\n",
       "397.0            1\n",
       "              ... \n",
       "10500000.0       1\n",
       "12521112.0       1\n",
       "13066558.0       1\n",
       "30049166.0       1\n",
       "32500000.0       1\n",
       "Name: count, Length: 790, dtype: int64"
      ]
     },
     "execution_count": 22,
     "metadata": {},
     "output_type": "execute_result"
    }
   ],
   "source": [
    "priceFreq_df = dataset['Price'].value_counts().sort_index()\n",
    "priceFreq_df"
   ]
  },
  {
   "cell_type": "code",
   "execution_count": 23,
   "id": "e7fbc3ca-5728-4afe-a2ea-eacd2b2ee5b1",
   "metadata": {},
   "outputs": [
    {
     "data": {
      "text/plain": [
       "Cost\n",
       "0.0             1\n",
       "100.0          14\n",
       "1000.0        232\n",
       "1200.0         49\n",
       "1500.0         21\n",
       "             ... \n",
       "13000000.0      1\n",
       "15000000.0      1\n",
       "16000000.0      1\n",
       "25000000.0      1\n",
       "30000000.0      2\n",
       "Name: count, Length: 77, dtype: int64"
      ]
     },
     "execution_count": 23,
     "metadata": {},
     "output_type": "execute_result"
    }
   ],
   "source": [
    "costFreq_df = dataset['Cost'].value_counts().sort_index()\n",
    "costFreq_df"
   ]
  },
  {
   "cell_type": "markdown",
   "id": "1907b641-fe40-4c54-bdb2-8ae06d8a5a38",
   "metadata": {},
   "source": [
    "> With >50% incorrect data values for 'Price' attribute, the attribute is dropped"
   ]
  },
  {
   "cell_type": "code",
   "execution_count": 24,
   "id": "02978b44-90ae-44e3-99a7-84c30d614766",
   "metadata": {},
   "outputs": [
    {
     "name": "stdout",
     "output_type": "stream",
     "text": [
      "<class 'pandas.core.frame.DataFrame'>\n",
      "RangeIndex: 5593 entries, 0 to 5592\n",
      "Data columns (total 7 columns):\n",
      " #   Column                      Non-Null Count  Dtype         \n",
      "---  ------                      --------------  -----         \n",
      " 0   Category                    4380 non-null   object        \n",
      " 1   Equipment Name              5593 non-null   object        \n",
      " 2   Cost                        5207 non-null   float64       \n",
      " 3   Date Of Installation        5593 non-null   datetime64[ns]\n",
      " 4   Under Warranty              5498 non-null   object        \n",
      " 5   Functional/ Non-functional  5593 non-null   object        \n",
      " 6   Status                      5593 non-null   object        \n",
      "dtypes: datetime64[ns](1), float64(1), object(5)\n",
      "memory usage: 306.0+ KB\n"
     ]
    }
   ],
   "source": [
    "dataset = dataset.drop(['Price'], axis = 1)\n",
    "dataset.info()"
   ]
  },
  {
   "cell_type": "markdown",
   "id": "34dfdfb6-de01-40cd-950f-9b6202efb1e1",
   "metadata": {},
   "source": [
    " > Check for min, max and unique values for each attribute"
   ]
  },
  {
   "cell_type": "code",
   "execution_count": 32,
   "id": "fb10e64f-d22a-4b6e-84af-705e76d56b64",
   "metadata": {},
   "outputs": [
    {
     "data": {
      "text/html": [
       "<div>\n",
       "<style scoped>\n",
       "    .dataframe tbody tr th:only-of-type {\n",
       "        vertical-align: middle;\n",
       "    }\n",
       "\n",
       "    .dataframe tbody tr th {\n",
       "        vertical-align: top;\n",
       "    }\n",
       "\n",
       "    .dataframe thead th {\n",
       "        text-align: right;\n",
       "    }\n",
       "</style>\n",
       "<table border=\"1\" class=\"dataframe\">\n",
       "  <thead>\n",
       "    <tr style=\"text-align: right;\">\n",
       "      <th></th>\n",
       "      <th>MaxValues</th>\n",
       "      <th>MinValues</th>\n",
       "    </tr>\n",
       "  </thead>\n",
       "  <tbody>\n",
       "    <tr>\n",
       "      <th>Equipment Name</th>\n",
       "      <td>ultrasound Scanner</td>\n",
       "      <td>100MA X-Ray Machine</td>\n",
       "    </tr>\n",
       "    <tr>\n",
       "      <th>Cost</th>\n",
       "      <td>30000000.0</td>\n",
       "      <td>0.0</td>\n",
       "    </tr>\n",
       "    <tr>\n",
       "      <th>Date Of Installation</th>\n",
       "      <td>2022-11-22 00:00:00</td>\n",
       "      <td>1906-12-29 00:00:00</td>\n",
       "    </tr>\n",
       "    <tr>\n",
       "      <th>Functional/ Non-functional</th>\n",
       "      <td>condemed</td>\n",
       "      <td>Functional</td>\n",
       "    </tr>\n",
       "  </tbody>\n",
       "</table>\n",
       "</div>"
      ],
      "text/plain": [
       "                                      MaxValues            MinValues\n",
       "Equipment Name               ultrasound Scanner  100MA X-Ray Machine\n",
       "Cost                                 30000000.0                  0.0\n",
       "Date Of Installation        2022-11-22 00:00:00  1906-12-29 00:00:00\n",
       "Functional/ Non-functional             condemed           Functional"
      ]
     },
     "execution_count": 32,
     "metadata": {},
     "output_type": "execute_result"
    }
   ],
   "source": [
    "stats_df =  dataset[['Equipment Name','Cost','Date Of Installation','Functional/ Non-functional']]\n",
    "dataset_stats = pd.DataFrame(stats_df.max(axis=0))\n",
    "dataset_stats.columns = ['MaxValues']\n",
    "dataset_stats['MinValues'] = stats_df.min(axis=0)\n",
    "dataset_stats"
   ]
  },
  {
   "cell_type": "markdown",
   "id": "cc54184d-be4c-4991-a6cd-92dc6f951b7d",
   "metadata": {},
   "source": [
    "> Drop entries where cost is 0. "
   ]
  },
  {
   "cell_type": "code",
   "execution_count": 33,
   "id": "fe087372-22aa-4411-927f-34c9302cbfcc",
   "metadata": {},
   "outputs": [],
   "source": [
    "dataset = dataset[dataset['Cost'] != 0]"
   ]
  },
  {
   "cell_type": "code",
   "execution_count": 34,
   "id": "32e1cd0c-9114-4bfb-bf6e-8a1abbc1596f",
   "metadata": {},
   "outputs": [
    {
     "data": {
      "text/html": [
       "<div>\n",
       "<style scoped>\n",
       "    .dataframe tbody tr th:only-of-type {\n",
       "        vertical-align: middle;\n",
       "    }\n",
       "\n",
       "    .dataframe tbody tr th {\n",
       "        vertical-align: top;\n",
       "    }\n",
       "\n",
       "    .dataframe thead th {\n",
       "        text-align: right;\n",
       "    }\n",
       "</style>\n",
       "<table border=\"1\" class=\"dataframe\">\n",
       "  <thead>\n",
       "    <tr style=\"text-align: right;\">\n",
       "      <th></th>\n",
       "      <th>MaxValues</th>\n",
       "      <th>MinValues</th>\n",
       "    </tr>\n",
       "  </thead>\n",
       "  <tbody>\n",
       "    <tr>\n",
       "      <th>Equipment Name</th>\n",
       "      <td>ultrasound Scanner</td>\n",
       "      <td>100MA X-Ray Machine</td>\n",
       "    </tr>\n",
       "    <tr>\n",
       "      <th>Cost</th>\n",
       "      <td>30000000.0</td>\n",
       "      <td>100.0</td>\n",
       "    </tr>\n",
       "    <tr>\n",
       "      <th>Date Of Installation</th>\n",
       "      <td>2022-11-22 00:00:00</td>\n",
       "      <td>1906-12-29 00:00:00</td>\n",
       "    </tr>\n",
       "    <tr>\n",
       "      <th>Functional/ Non-functional</th>\n",
       "      <td>condemed</td>\n",
       "      <td>Functional</td>\n",
       "    </tr>\n",
       "  </tbody>\n",
       "</table>\n",
       "</div>"
      ],
      "text/plain": [
       "                                      MaxValues            MinValues\n",
       "Equipment Name               ultrasound Scanner  100MA X-Ray Machine\n",
       "Cost                                 30000000.0                100.0\n",
       "Date Of Installation        2022-11-22 00:00:00  1906-12-29 00:00:00\n",
       "Functional/ Non-functional             condemed           Functional"
      ]
     },
     "execution_count": 34,
     "metadata": {},
     "output_type": "execute_result"
    }
   ],
   "source": [
    "stats_df =  dataset[['Equipment Name','Cost','Date Of Installation','Functional/ Non-functional']]\n",
    "dataset_stats = pd.DataFrame(stats_df.max(axis=0))\n",
    "dataset_stats.columns = ['MaxValues']\n",
    "dataset_stats['MinValues'] = stats_df.min(axis=0)\n",
    "dataset_stats"
   ]
  },
  {
   "cell_type": "code",
   "execution_count": 35,
   "id": "84fac318-8e38-4490-baff-284bdf12fee7",
   "metadata": {},
   "outputs": [
    {
     "data": {
      "text/html": [
       "<div>\n",
       "<style scoped>\n",
       "    .dataframe tbody tr th:only-of-type {\n",
       "        vertical-align: middle;\n",
       "    }\n",
       "\n",
       "    .dataframe tbody tr th {\n",
       "        vertical-align: top;\n",
       "    }\n",
       "\n",
       "    .dataframe thead th {\n",
       "        text-align: right;\n",
       "    }\n",
       "</style>\n",
       "<table border=\"1\" class=\"dataframe\">\n",
       "  <thead>\n",
       "    <tr style=\"text-align: right;\">\n",
       "      <th></th>\n",
       "      <th>UniqueValues</th>\n",
       "    </tr>\n",
       "  </thead>\n",
       "  <tbody>\n",
       "    <tr>\n",
       "      <th>Category</th>\n",
       "      <td>16.0</td>\n",
       "    </tr>\n",
       "    <tr>\n",
       "      <th>Equipment Name</th>\n",
       "      <td>296.0</td>\n",
       "    </tr>\n",
       "    <tr>\n",
       "      <th>Cost</th>\n",
       "      <td>76.0</td>\n",
       "    </tr>\n",
       "    <tr>\n",
       "      <th>Date Of Installation</th>\n",
       "      <td>1491.0</td>\n",
       "    </tr>\n",
       "    <tr>\n",
       "      <th>Under Warranty</th>\n",
       "      <td>2.0</td>\n",
       "    </tr>\n",
       "    <tr>\n",
       "      <th>Functional/ Non-functional</th>\n",
       "      <td>7.0</td>\n",
       "    </tr>\n",
       "    <tr>\n",
       "      <th>Status</th>\n",
       "      <td>2.0</td>\n",
       "    </tr>\n",
       "  </tbody>\n",
       "</table>\n",
       "</div>"
      ],
      "text/plain": [
       "                            UniqueValues\n",
       "Category                            16.0\n",
       "Equipment Name                     296.0\n",
       "Cost                                76.0\n",
       "Date Of Installation              1491.0\n",
       "Under Warranty                       2.0\n",
       "Functional/ Non-functional           7.0\n",
       "Status                               2.0"
      ]
     },
     "execution_count": 35,
     "metadata": {},
     "output_type": "execute_result"
    }
   ],
   "source": [
    "dataset_unq = pd.DataFrame(index=list(dataset.columns))\n",
    "dataset_unq['UniqueValues'] = np.nan\n",
    "for col in dataset:\n",
    "    dataset_unq.loc[col]['UniqueValues'] = dataset[col].nunique()\n",
    "dataset_unq['UniqueValues'] = dataset_unq['UniqueValues']\n",
    "\n",
    "dataset_unq"
   ]
  },
  {
   "cell_type": "markdown",
   "id": "08f7d0f5-a067-4d05-9aa0-3089a5b954a2",
   "metadata": {},
   "source": [
    "> Look for missing data in each attribute for dataset dataframe"
   ]
  },
  {
   "cell_type": "code",
   "execution_count": 36,
   "id": "48acdb76-ccca-47ed-89a1-f24aae5aa88f",
   "metadata": {
    "scrolled": true
   },
   "outputs": [
    {
     "name": "stdout",
     "output_type": "stream",
     "text": [
      "> Category, Missing: 1213 (21.7%)\n",
      "> Equipment Name, Missing: 0 (0.0%)\n",
      "> Cost, Missing: 386 (6.9%)\n",
      "> Date Of Installation, Missing: 0 (0.0%)\n",
      "> Under Warranty, Missing: 95 (1.7%)\n",
      "> Functional/ Non-functional, Missing: 0 (0.0%)\n",
      "> Status, Missing: 0 (0.0%)\n"
     ]
    },
    {
     "name": "stderr",
     "output_type": "stream",
     "text": [
      "/var/folders/sq/z4mv25d17y3_fdz56x8p97nr0000gn/T/ipykernel_84167/3024138218.py:4: FutureWarning: Calling int on a single element Series is deprecated and will raise a TypeError in the future. Use int(ser.iloc[0]) instead\n",
      "  print('> %s, Missing: %d (%.1f%%)' % (i,num_missing,perc))\n",
      "/var/folders/sq/z4mv25d17y3_fdz56x8p97nr0000gn/T/ipykernel_84167/3024138218.py:4: FutureWarning: Calling float on a single element Series is deprecated and will raise a TypeError in the future. Use float(ser.iloc[0]) instead\n",
      "  print('> %s, Missing: %d (%.1f%%)' % (i,num_missing,perc))\n",
      "/var/folders/sq/z4mv25d17y3_fdz56x8p97nr0000gn/T/ipykernel_84167/3024138218.py:4: FutureWarning: Calling int on a single element Series is deprecated and will raise a TypeError in the future. Use int(ser.iloc[0]) instead\n",
      "  print('> %s, Missing: %d (%.1f%%)' % (i,num_missing,perc))\n",
      "/var/folders/sq/z4mv25d17y3_fdz56x8p97nr0000gn/T/ipykernel_84167/3024138218.py:4: FutureWarning: Calling float on a single element Series is deprecated and will raise a TypeError in the future. Use float(ser.iloc[0]) instead\n",
      "  print('> %s, Missing: %d (%.1f%%)' % (i,num_missing,perc))\n",
      "/var/folders/sq/z4mv25d17y3_fdz56x8p97nr0000gn/T/ipykernel_84167/3024138218.py:4: FutureWarning: Calling int on a single element Series is deprecated and will raise a TypeError in the future. Use int(ser.iloc[0]) instead\n",
      "  print('> %s, Missing: %d (%.1f%%)' % (i,num_missing,perc))\n",
      "/var/folders/sq/z4mv25d17y3_fdz56x8p97nr0000gn/T/ipykernel_84167/3024138218.py:4: FutureWarning: Calling float on a single element Series is deprecated and will raise a TypeError in the future. Use float(ser.iloc[0]) instead\n",
      "  print('> %s, Missing: %d (%.1f%%)' % (i,num_missing,perc))\n",
      "/var/folders/sq/z4mv25d17y3_fdz56x8p97nr0000gn/T/ipykernel_84167/3024138218.py:4: FutureWarning: Calling int on a single element Series is deprecated and will raise a TypeError in the future. Use int(ser.iloc[0]) instead\n",
      "  print('> %s, Missing: %d (%.1f%%)' % (i,num_missing,perc))\n",
      "/var/folders/sq/z4mv25d17y3_fdz56x8p97nr0000gn/T/ipykernel_84167/3024138218.py:4: FutureWarning: Calling float on a single element Series is deprecated and will raise a TypeError in the future. Use float(ser.iloc[0]) instead\n",
      "  print('> %s, Missing: %d (%.1f%%)' % (i,num_missing,perc))\n",
      "/var/folders/sq/z4mv25d17y3_fdz56x8p97nr0000gn/T/ipykernel_84167/3024138218.py:4: FutureWarning: Calling int on a single element Series is deprecated and will raise a TypeError in the future. Use int(ser.iloc[0]) instead\n",
      "  print('> %s, Missing: %d (%.1f%%)' % (i,num_missing,perc))\n",
      "/var/folders/sq/z4mv25d17y3_fdz56x8p97nr0000gn/T/ipykernel_84167/3024138218.py:4: FutureWarning: Calling float on a single element Series is deprecated and will raise a TypeError in the future. Use float(ser.iloc[0]) instead\n",
      "  print('> %s, Missing: %d (%.1f%%)' % (i,num_missing,perc))\n",
      "/var/folders/sq/z4mv25d17y3_fdz56x8p97nr0000gn/T/ipykernel_84167/3024138218.py:4: FutureWarning: Calling int on a single element Series is deprecated and will raise a TypeError in the future. Use int(ser.iloc[0]) instead\n",
      "  print('> %s, Missing: %d (%.1f%%)' % (i,num_missing,perc))\n",
      "/var/folders/sq/z4mv25d17y3_fdz56x8p97nr0000gn/T/ipykernel_84167/3024138218.py:4: FutureWarning: Calling float on a single element Series is deprecated and will raise a TypeError in the future. Use float(ser.iloc[0]) instead\n",
      "  print('> %s, Missing: %d (%.1f%%)' % (i,num_missing,perc))\n",
      "/var/folders/sq/z4mv25d17y3_fdz56x8p97nr0000gn/T/ipykernel_84167/3024138218.py:4: FutureWarning: Calling int on a single element Series is deprecated and will raise a TypeError in the future. Use int(ser.iloc[0]) instead\n",
      "  print('> %s, Missing: %d (%.1f%%)' % (i,num_missing,perc))\n",
      "/var/folders/sq/z4mv25d17y3_fdz56x8p97nr0000gn/T/ipykernel_84167/3024138218.py:4: FutureWarning: Calling float on a single element Series is deprecated and will raise a TypeError in the future. Use float(ser.iloc[0]) instead\n",
      "  print('> %s, Missing: %d (%.1f%%)' % (i,num_missing,perc))\n"
     ]
    }
   ],
   "source": [
    "for i in dataset.columns:\n",
    "    num_missing = (dataset[[i]].isnull()).sum()\n",
    "    perc = num_missing/dataset.shape[0]*100\n",
    "    print('> %s, Missing: %d (%.1f%%)' % (i,num_missing,perc))"
   ]
  },
  {
   "cell_type": "markdown",
   "id": "1ff67c69-638e-4463-9291-5eb62d3ea278",
   "metadata": {},
   "source": [
    "> Plot frequency distribution for 'Category' to reduce missing value "
   ]
  },
  {
   "cell_type": "code",
   "execution_count": 37,
   "id": "32bacc0a-9353-4865-928b-e7c6ff33f796",
   "metadata": {},
   "outputs": [
    {
     "data": {
      "image/png": "[encoded data removed]",
      "text/plain": [
       "<Figure size 1200x400 with 1 Axes>"
      ]
     },
     "metadata": {},
     "output_type": "display_data"
    }
   ],
   "source": [
    "freq_df = dataset['Category'].value_counts().sort_index()\n",
    "fig, ax = plt.subplots(figsize=(12, 4))\n",
    "ax = freq_df.plot(kind='bar',width=1.0)\n",
    "ax.set(xlabel = \"Type of medical device\",\n",
    "       ylabel = \"Fequency\")\n",
    "plt.show()"
   ]
  },
  {
   "cell_type": "markdown",
   "id": "1cfe03d6-6ef6-4431-aab8-9213e53e8533",
   "metadata": {},
   "source": [
    "> With huge inconsitencies in the number of equipment for each category, only 3 equipment category will be included in this forecasting study. They are (1) 'Diagnostic/Monitoring' (2) 'Laboratory' and (3) 'Respiratory'\n",
    "\n",
    "> A new dataframe cat_df is used for the subsequent sections"
   ]
  },
  {
   "cell_type": "code",
   "execution_count": 38,
   "id": "77695d47-5112-4c50-84e7-ef6a8ed3fed8",
   "metadata": {},
   "outputs": [
    {
     "data": {
      "text/html": [
       "<div>\n",
       "<style scoped>\n",
       "    .dataframe tbody tr th:only-of-type {\n",
       "        vertical-align: middle;\n",
       "    }\n",
       "\n",
       "    .dataframe tbody tr th {\n",
       "        vertical-align: top;\n",
       "    }\n",
       "\n",
       "    .dataframe thead th {\n",
       "        text-align: right;\n",
       "    }\n",
       "</style>\n",
       "<table border=\"1\" class=\"dataframe\">\n",
       "  <thead>\n",
       "    <tr style=\"text-align: right;\">\n",
       "      <th></th>\n",
       "      <th>Category</th>\n",
       "      <th>Equipment Name</th>\n",
       "      <th>Cost</th>\n",
       "      <th>Date Of Installation</th>\n",
       "      <th>Under Warranty</th>\n",
       "      <th>Functional/ Non-functional</th>\n",
       "      <th>Status</th>\n",
       "    </tr>\n",
       "  </thead>\n",
       "  <tbody>\n",
       "    <tr>\n",
       "      <th>0</th>\n",
       "      <td>Diagnostic/Monitoring</td>\n",
       "      <td>ABG</td>\n",
       "      <td>1000000.0</td>\n",
       "      <td>2021-04-08</td>\n",
       "      <td>Yes</td>\n",
       "      <td>Functional</td>\n",
       "      <td>Not Available</td>\n",
       "    </tr>\n",
       "    <tr>\n",
       "      <th>1</th>\n",
       "      <td>Diagnostic/Monitoring</td>\n",
       "      <td>ABG</td>\n",
       "      <td>1000000.0</td>\n",
       "      <td>2021-04-08</td>\n",
       "      <td>Yes</td>\n",
       "      <td>Functional</td>\n",
       "      <td>Not Available</td>\n",
       "    </tr>\n",
       "    <tr>\n",
       "      <th>6</th>\n",
       "      <td>Laboratory</td>\n",
       "      <td>Automatic Tissue Processor</td>\n",
       "      <td>900000.0</td>\n",
       "      <td>2021-12-22</td>\n",
       "      <td>No</td>\n",
       "      <td>Functional</td>\n",
       "      <td>Available</td>\n",
       "    </tr>\n",
       "    <tr>\n",
       "      <th>7</th>\n",
       "      <td>Laboratory</td>\n",
       "      <td>Automatic Tissue Processor</td>\n",
       "      <td>900000.0</td>\n",
       "      <td>2006-09-07</td>\n",
       "      <td>No</td>\n",
       "      <td>Non-functional</td>\n",
       "      <td>Not Available</td>\n",
       "    </tr>\n",
       "    <tr>\n",
       "      <th>8</th>\n",
       "      <td>Diagnostic/Monitoring</td>\n",
       "      <td>Bed Side Monitor</td>\n",
       "      <td>65000.0</td>\n",
       "      <td>2021-09-01</td>\n",
       "      <td>Yes</td>\n",
       "      <td>Functional</td>\n",
       "      <td>Available</td>\n",
       "    </tr>\n",
       "  </tbody>\n",
       "</table>\n",
       "</div>"
      ],
      "text/plain": [
       "                Category              Equipment Name       Cost  \\\n",
       "0  Diagnostic/Monitoring                         ABG  1000000.0   \n",
       "1  Diagnostic/Monitoring                         ABG  1000000.0   \n",
       "6             Laboratory  Automatic Tissue Processor   900000.0   \n",
       "7             Laboratory  Automatic Tissue Processor   900000.0   \n",
       "8  Diagnostic/Monitoring            Bed Side Monitor    65000.0   \n",
       "\n",
       "  Date Of Installation Under Warranty Functional/ Non-functional  \\\n",
       "0           2021-04-08            Yes                 Functional   \n",
       "1           2021-04-08            Yes                 Functional   \n",
       "6           2021-12-22             No                 Functional   \n",
       "7           2006-09-07             No             Non-functional   \n",
       "8           2021-09-01            Yes                 Functional   \n",
       "\n",
       "          Status  \n",
       "0  Not Available  \n",
       "1  Not Available  \n",
       "6      Available  \n",
       "7  Not Available  \n",
       "8      Available  "
      ]
     },
     "execution_count": 38,
     "metadata": {},
     "output_type": "execute_result"
    }
   ],
   "source": [
    "cats = ('Diagnostic/Monitoring','Laboratory','Respiratory')\n",
    "cat_df = dataset[(dataset['Category']==cats[0]) | (dataset['Category']==cats[1]) | (dataset['Category']==cats[2])]\n",
    "cat_df.head(5)"
   ]
  },
  {
   "cell_type": "markdown",
   "id": "4ec0db6a-275e-4093-a606-c463dd35af1b",
   "metadata": {},
   "source": [
    "> Look for missing attributes in cat_dataframe"
   ]
  },
  {
   "cell_type": "code",
   "execution_count": 39,
   "id": "e3615bc4-c153-4b92-8c6c-365e7d3aa5f1",
   "metadata": {
    "scrolled": true
   },
   "outputs": [
    {
     "name": "stdout",
     "output_type": "stream",
     "text": [
      "1. Category, Missing: 0 (0.0%)\n",
      "2. Equipment Name, Missing: 0 (0.0%)\n",
      "3. Cost, Missing: 165 (3.0%)\n",
      "4. Date Of Installation, Missing: 0 (0.0%)\n",
      "5. Under Warranty, Missing: 39 (0.7%)\n",
      "6. Functional/ Non-functional, Missing: 0 (0.0%)\n",
      "7. Status, Missing: 0 (0.0%)\n"
     ]
    },
    {
     "name": "stderr",
     "output_type": "stream",
     "text": [
      "/var/folders/sq/z4mv25d17y3_fdz56x8p97nr0000gn/T/ipykernel_84167/1883254016.py:4: FutureWarning: Calling int on a single element Series is deprecated and will raise a TypeError in the future. Use int(ser.iloc[0]) instead\n",
      "  print('%s. %s, Missing: %d (%.1f%%)' % (i+1,j,num_missing,perc))\n",
      "/var/folders/sq/z4mv25d17y3_fdz56x8p97nr0000gn/T/ipykernel_84167/1883254016.py:4: FutureWarning: Calling float on a single element Series is deprecated and will raise a TypeError in the future. Use float(ser.iloc[0]) instead\n",
      "  print('%s. %s, Missing: %d (%.1f%%)' % (i+1,j,num_missing,perc))\n",
      "/var/folders/sq/z4mv25d17y3_fdz56x8p97nr0000gn/T/ipykernel_84167/1883254016.py:4: FutureWarning: Calling int on a single element Series is deprecated and will raise a TypeError in the future. Use int(ser.iloc[0]) instead\n",
      "  print('%s. %s, Missing: %d (%.1f%%)' % (i+1,j,num_missing,perc))\n",
      "/var/folders/sq/z4mv25d17y3_fdz56x8p97nr0000gn/T/ipykernel_84167/1883254016.py:4: FutureWarning: Calling float on a single element Series is deprecated and will raise a TypeError in the future. Use float(ser.iloc[0]) instead\n",
      "  print('%s. %s, Missing: %d (%.1f%%)' % (i+1,j,num_missing,perc))\n",
      "/var/folders/sq/z4mv25d17y3_fdz56x8p97nr0000gn/T/ipykernel_84167/1883254016.py:4: FutureWarning: Calling int on a single element Series is deprecated and will raise a TypeError in the future. Use int(ser.iloc[0]) instead\n",
      "  print('%s. %s, Missing: %d (%.1f%%)' % (i+1,j,num_missing,perc))\n",
      "/var/folders/sq/z4mv25d17y3_fdz56x8p97nr0000gn/T/ipykernel_84167/1883254016.py:4: FutureWarning: Calling float on a single element Series is deprecated and will raise a TypeError in the future. Use float(ser.iloc[0]) instead\n",
      "  print('%s. %s, Missing: %d (%.1f%%)' % (i+1,j,num_missing,perc))\n",
      "/var/folders/sq/z4mv25d17y3_fdz56x8p97nr0000gn/T/ipykernel_84167/1883254016.py:4: FutureWarning: Calling int on a single element Series is deprecated and will raise a TypeError in the future. Use int(ser.iloc[0]) instead\n",
      "  print('%s. %s, Missing: %d (%.1f%%)' % (i+1,j,num_missing,perc))\n",
      "/var/folders/sq/z4mv25d17y3_fdz56x8p97nr0000gn/T/ipykernel_84167/1883254016.py:4: FutureWarning: Calling float on a single element Series is deprecated and will raise a TypeError in the future. Use float(ser.iloc[0]) instead\n",
      "  print('%s. %s, Missing: %d (%.1f%%)' % (i+1,j,num_missing,perc))\n",
      "/var/folders/sq/z4mv25d17y3_fdz56x8p97nr0000gn/T/ipykernel_84167/1883254016.py:4: FutureWarning: Calling int on a single element Series is deprecated and will raise a TypeError in the future. Use int(ser.iloc[0]) instead\n",
      "  print('%s. %s, Missing: %d (%.1f%%)' % (i+1,j,num_missing,perc))\n",
      "/var/folders/sq/z4mv25d17y3_fdz56x8p97nr0000gn/T/ipykernel_84167/1883254016.py:4: FutureWarning: Calling float on a single element Series is deprecated and will raise a TypeError in the future. Use float(ser.iloc[0]) instead\n",
      "  print('%s. %s, Missing: %d (%.1f%%)' % (i+1,j,num_missing,perc))\n",
      "/var/folders/sq/z4mv25d17y3_fdz56x8p97nr0000gn/T/ipykernel_84167/1883254016.py:4: FutureWarning: Calling int on a single element Series is deprecated and will raise a TypeError in the future. Use int(ser.iloc[0]) instead\n",
      "  print('%s. %s, Missing: %d (%.1f%%)' % (i+1,j,num_missing,perc))\n",
      "/var/folders/sq/z4mv25d17y3_fdz56x8p97nr0000gn/T/ipykernel_84167/1883254016.py:4: FutureWarning: Calling float on a single element Series is deprecated and will raise a TypeError in the future. Use float(ser.iloc[0]) instead\n",
      "  print('%s. %s, Missing: %d (%.1f%%)' % (i+1,j,num_missing,perc))\n",
      "/var/folders/sq/z4mv25d17y3_fdz56x8p97nr0000gn/T/ipykernel_84167/1883254016.py:4: FutureWarning: Calling int on a single element Series is deprecated and will raise a TypeError in the future. Use int(ser.iloc[0]) instead\n",
      "  print('%s. %s, Missing: %d (%.1f%%)' % (i+1,j,num_missing,perc))\n",
      "/var/folders/sq/z4mv25d17y3_fdz56x8p97nr0000gn/T/ipykernel_84167/1883254016.py:4: FutureWarning: Calling float on a single element Series is deprecated and will raise a TypeError in the future. Use float(ser.iloc[0]) instead\n",
      "  print('%s. %s, Missing: %d (%.1f%%)' % (i+1,j,num_missing,perc))\n"
     ]
    }
   ],
   "source": [
    "for i,j in enumerate(cat_df.columns):\n",
    "    num_missing = (cat_df[[j]].isnull()).sum()\n",
    "    perc = num_missing/dataset.shape[0]*100\n",
    "    print('%s. %s, Missing: %d (%.1f%%)' % (i+1,j,num_missing,perc))"
   ]
  },
  {
   "cell_type": "markdown",
   "id": "d7269f3e-8151-4f7c-91b2-df49f347e9cd",
   "metadata": {},
   "source": [
    "> Next, handle missing values for 'Cost; and 'Under Warranty' attributes"
   ]
  },
  {
   "cell_type": "code",
   "execution_count": 43,
   "id": "0eb6c152-b2b8-4fe0-b35d-3b2ed315ea8a",
   "metadata": {},
   "outputs": [
    {
     "data": {
      "text/html": [
       "<div>\n",
       "<style scoped>\n",
       "    .dataframe tbody tr th:only-of-type {\n",
       "        vertical-align: middle;\n",
       "    }\n",
       "\n",
       "    .dataframe tbody tr th {\n",
       "        vertical-align: top;\n",
       "    }\n",
       "\n",
       "    .dataframe thead th {\n",
       "        text-align: right;\n",
       "    }\n",
       "</style>\n",
       "<table border=\"1\" class=\"dataframe\">\n",
       "  <thead>\n",
       "    <tr style=\"text-align: right;\">\n",
       "      <th></th>\n",
       "      <th>Category</th>\n",
       "      <th>Equipment Name</th>\n",
       "      <th>Cost</th>\n",
       "      <th>Date Of Installation</th>\n",
       "      <th>Under Warranty</th>\n",
       "      <th>Functional/ Non-functional</th>\n",
       "      <th>Status</th>\n",
       "    </tr>\n",
       "  </thead>\n",
       "  <tbody>\n",
       "    <tr>\n",
       "      <th>2068</th>\n",
       "      <td>Laboratory</td>\n",
       "      <td>Binocular Microscope</td>\n",
       "      <td>30000.0</td>\n",
       "      <td>2016-09-07</td>\n",
       "      <td>NaN</td>\n",
       "      <td>Functional</td>\n",
       "      <td>Not Available</td>\n",
       "    </tr>\n",
       "    <tr>\n",
       "      <th>2070</th>\n",
       "      <td>Laboratory</td>\n",
       "      <td>Boyles Apparatus</td>\n",
       "      <td>150000.0</td>\n",
       "      <td>2017-09-11</td>\n",
       "      <td>NaN</td>\n",
       "      <td>Non-functional</td>\n",
       "      <td>Available</td>\n",
       "    </tr>\n",
       "    <tr>\n",
       "      <th>2071</th>\n",
       "      <td>Laboratory</td>\n",
       "      <td>Boyles Apparatus</td>\n",
       "      <td>150000.0</td>\n",
       "      <td>2017-09-12</td>\n",
       "      <td>NaN</td>\n",
       "      <td>Non-functional</td>\n",
       "      <td>Not Available</td>\n",
       "    </tr>\n",
       "    <tr>\n",
       "      <th>2076</th>\n",
       "      <td>Laboratory</td>\n",
       "      <td>Centrifuse Machine</td>\n",
       "      <td>6500.0</td>\n",
       "      <td>2017-09-07</td>\n",
       "      <td>NaN</td>\n",
       "      <td>Functional</td>\n",
       "      <td>Available</td>\n",
       "    </tr>\n",
       "    <tr>\n",
       "      <th>2077</th>\n",
       "      <td>Laboratory</td>\n",
       "      <td>Centrifuse Machine</td>\n",
       "      <td>6500.0</td>\n",
       "      <td>2017-09-07</td>\n",
       "      <td>NaN</td>\n",
       "      <td>Functional</td>\n",
       "      <td>Not Available</td>\n",
       "    </tr>\n",
       "  </tbody>\n",
       "</table>\n",
       "</div>"
      ],
      "text/plain": [
       "        Category        Equipment Name      Cost Date Of Installation  \\\n",
       "2068  Laboratory  Binocular Microscope   30000.0           2016-09-07   \n",
       "2070  Laboratory      Boyles Apparatus  150000.0           2017-09-11   \n",
       "2071  Laboratory      Boyles Apparatus  150000.0           2017-09-12   \n",
       "2076  Laboratory    Centrifuse Machine    6500.0           2017-09-07   \n",
       "2077  Laboratory    Centrifuse Machine    6500.0           2017-09-07   \n",
       "\n",
       "     Under Warranty Functional/ Non-functional         Status  \n",
       "2068            NaN                 Functional  Not Available  \n",
       "2070            NaN             Non-functional      Available  \n",
       "2071            NaN             Non-functional  Not Available  \n",
       "2076            NaN                 Functional      Available  \n",
       "2077            NaN                 Functional  Not Available  "
      ]
     },
     "execution_count": 43,
     "metadata": {},
     "output_type": "execute_result"
    }
   ],
   "source": [
    "cat_null = cat_df[pd.isnull(cat_df[\"Under Warranty\"])]\n",
    "cat_null.head(5)"
   ]
  },
  {
   "cell_type": "code",
   "execution_count": 44,
   "id": "6eb8c1fe-1368-447e-bc01-3506051f778b",
   "metadata": {},
   "outputs": [
    {
     "name": "stdout",
     "output_type": "stream",
     "text": [
      "(39, 7)\n"
     ]
    }
   ],
   "source": [
    "print(cat_null.shape)"
   ]
  },
  {
   "cell_type": "markdown",
   "id": "208dd034-9077-4f32-a1c1-aba108a2a2f4",
   "metadata": {},
   "source": [
    "> With 39 missing entries and 2129 entries, the analysis decides not to shrink the size of the dataset by dropping entries. Instead, impute all missing entries for 'Under warranty' to 'Yes'"
   ]
  },
  {
   "cell_type": "code",
   "execution_count": 45,
   "id": "c3430e66-bfce-4a76-8676-4b682a7ec29e",
   "metadata": {},
   "outputs": [
    {
     "name": "stdout",
     "output_type": "stream",
     "text": [
      "<class 'pandas.core.frame.DataFrame'>\n",
      "Index: 2129 entries, 0 to 5590\n",
      "Data columns (total 7 columns):\n",
      " #   Column                      Non-Null Count  Dtype         \n",
      "---  ------                      --------------  -----         \n",
      " 0   Category                    2129 non-null   object        \n",
      " 1   Equipment Name              2129 non-null   object        \n",
      " 2   Cost                        1964 non-null   float64       \n",
      " 3   Date Of Installation        2129 non-null   datetime64[ns]\n",
      " 4   Under Warranty              2129 non-null   object        \n",
      " 5   Functional/ Non-functional  2129 non-null   object        \n",
      " 6   Status                      2129 non-null   object        \n",
      "dtypes: datetime64[ns](1), float64(1), object(5)\n",
      "memory usage: 133.1+ KB\n"
     ]
    },
    {
     "name": "stderr",
     "output_type": "stream",
     "text": [
      "/var/folders/sq/z4mv25d17y3_fdz56x8p97nr0000gn/T/ipykernel_84167/310842706.py:1: SettingWithCopyWarning: \n",
      "A value is trying to be set on a copy of a slice from a DataFrame\n",
      "\n",
      "See the caveats in the documentation: https://pandas.pydata.org/pandas-docs/stable/user_guide/indexing.html#returning-a-view-versus-a-copy\n",
      "  cat_df[\"Under Warranty\"].fillna('Yes', inplace = True)\n"
     ]
    }
   ],
   "source": [
    "cat_df[\"Under Warranty\"].fillna('Yes', inplace = True)\n",
    "cat_df.info()"
   ]
  },
  {
   "cell_type": "code",
   "execution_count": 46,
   "id": "78461099-f09b-4a25-bd87-2e18eb9e508d",
   "metadata": {},
   "outputs": [
    {
     "name": "stdout",
     "output_type": "stream",
     "text": [
      "{'Suction machine': 7015.277777777777, 'Tube Sealer': 96250.0, 'Spectro Photometer': 80000.0, 'Semi Auto Analyser': 115277.77777777778, 'Microscope': 28602.941176470587, 'QBC Machine': 105166.66666666667, 'Multipara Monitor': 75000.0, 'Bed Side Monitor': 65000.0, 'Oxygen Concentrator': 41386.36363636364, 'ROTARY MICROTOME': 6500.0, 'Binocular Microscope': 29788.732394366198, 'Pulse Oximeter': 43135.13513513513, 'Ventilator': 1100000.0, 'Ultrasound Machine': 540000.0, 'Hot Air Oven': 22666.666666666668, 'Urine Analyser': 75000.0, 'Ultrasonography Machine': 398888.8888888889}\n"
     ]
    }
   ],
   "source": [
    "cost_map = {}\n",
    "equipment_with_missing_cost = set(cat_df[pd.isnull(cat_df[\"Cost\"])]['Equipment Name'].values)\n",
    "for equip in equipment_with_missing_cost:\n",
    "    cost_map[equip] = cat_df[cat_df[\"Equipment Name\"] == equip]['Cost'].mean()\n",
    "print(cost_map)"
   ]
  },
  {
   "cell_type": "code",
   "execution_count": 47,
   "id": "70c27aad-d8d6-4f51-a6a3-db62f16045c1",
   "metadata": {},
   "outputs": [],
   "source": [
    "for index, row in cat_df[pd.isnull(cat_df[\"Cost\"])].iterrows():\n",
    "    if row[\"Equipment Name\"] in cost_map:\n",
    "        cat_df.loc[index, \"Cost\"] = cost_map[row[\"Equipment Name\"]]"
   ]
  },
  {
   "cell_type": "code",
   "execution_count": 48,
   "id": "e92afd64-58ef-4e20-bd61-c0f3e78633f1",
   "metadata": {},
   "outputs": [
    {
     "name": "stdout",
     "output_type": "stream",
     "text": [
      "<class 'pandas.core.frame.DataFrame'>\n",
      "Index: 2129 entries, 0 to 5590\n",
      "Data columns (total 7 columns):\n",
      " #   Column                      Non-Null Count  Dtype         \n",
      "---  ------                      --------------  -----         \n",
      " 0   Category                    2129 non-null   object        \n",
      " 1   Equipment Name              2129 non-null   object        \n",
      " 2   Cost                        2129 non-null   float64       \n",
      " 3   Date Of Installation        2129 non-null   datetime64[ns]\n",
      " 4   Under Warranty              2129 non-null   object        \n",
      " 5   Functional/ Non-functional  2129 non-null   object        \n",
      " 6   Status                      2129 non-null   object        \n",
      "dtypes: datetime64[ns](1), float64(1), object(5)\n",
      "memory usage: 197.6+ KB\n"
     ]
    }
   ],
   "source": [
    "cat_df.info()"
   ]
  },
  {
   "cell_type": "markdown",
   "id": "a052944c-9568-4fe5-9413-630a5d9ca546",
   "metadata": {},
   "source": [
    "> All missing data and duplicated data are handled\n",
    "\n",
    "> Next, check for noisy data\n",
    "\n",
    "> For 'Functional/Non-functional' attribute, there are 7 unique values. Limit these category to (i) Active/in use, (ii) Not in use (iii) Approved for disposal\n",
    "\n",
    "> For 'Date of Installation' attribute check the variation by year."
   ]
  },
  {
   "cell_type": "code",
   "execution_count": 49,
   "id": "6ac2812f-d1f2-48b1-ac44-2f93977e5d9c",
   "metadata": {},
   "outputs": [
    {
     "data": {
      "image/png": "[encoded data removed]",
      "text/plain": [
       "<Figure size 1200x400 with 1 Axes>"
      ]
     },
     "metadata": {},
     "output_type": "display_data"
    }
   ],
   "source": [
    "funcFreq_df = cat_df['Functional/ Non-functional'].value_counts().sort_index()\n",
    "fig, ax = plt.subplots(figsize=(12, 4))\n",
    "ax = funcFreq_df.plot(kind='bar',width=1.0)\n",
    "ax.set(xlabel = \"Asset condition\",\n",
    "       ylabel = \"Fequency\")\n",
    "plt.show()"
   ]
  },
  {
   "cell_type": "code",
   "execution_count": 50,
   "id": "a90d8256-461f-4d80-a0a8-c551c0937ffd",
   "metadata": {
    "scrolled": true
   },
   "outputs": [
    {
     "name": "stderr",
     "output_type": "stream",
     "text": [
      "/var/folders/sq/z4mv25d17y3_fdz56x8p97nr0000gn/T/ipykernel_84167/2926736806.py:1: SettingWithCopyWarning: \n",
      "A value is trying to be set on a copy of a slice from a DataFrame.\n",
      "Try using .loc[row_indexer,col_indexer] = value instead\n",
      "\n",
      "See the caveats in the documentation: https://pandas.pydata.org/pandas-docs/stable/user_guide/indexing.html#returning-a-view-versus-a-copy\n",
      "  cat_df['Functional/ Non-functional'] = cat_df['Functional/ Non-functional'].replace(['Installation pending','Functional'], 'Active/in use')\n",
      "/var/folders/sq/z4mv25d17y3_fdz56x8p97nr0000gn/T/ipykernel_84167/2926736806.py:2: SettingWithCopyWarning: \n",
      "A value is trying to be set on a copy of a slice from a DataFrame.\n",
      "Try using .loc[row_indexer,col_indexer] = value instead\n",
      "\n",
      "See the caveats in the documentation: https://pandas.pydata.org/pandas-docs/stable/user_guide/indexing.html#returning-a-view-versus-a-copy\n",
      "  cat_df['Functional/ Non-functional'] = cat_df['Functional/ Non-functional'].replace(['Non-functional','Non-functional non repairable','Non-functional repairable'], 'Not in use')\n",
      "/var/folders/sq/z4mv25d17y3_fdz56x8p97nr0000gn/T/ipykernel_84167/2926736806.py:3: SettingWithCopyWarning: \n",
      "A value is trying to be set on a copy of a slice from a DataFrame.\n",
      "Try using .loc[row_indexer,col_indexer] = value instead\n",
      "\n",
      "See the caveats in the documentation: https://pandas.pydata.org/pandas-docs/stable/user_guide/indexing.html#returning-a-view-versus-a-copy\n",
      "  cat_df['Functional/ Non-functional'] = cat_df['Functional/ Non-functional'].replace(['condemed'], 'Approved for disposal')\n"
     ]
    }
   ],
   "source": [
    "cat_df['Functional/ Non-functional'] = cat_df['Functional/ Non-functional'].replace(['Installation pending','Functional'], 'Active/in use')\n",
    "cat_df['Functional/ Non-functional'] = cat_df['Functional/ Non-functional'].replace(['Non-functional','Non-functional non repairable','Non-functional repairable'], 'Not in use')\n",
    "cat_df['Functional/ Non-functional'] = cat_df['Functional/ Non-functional'].replace(['condemed'], 'Approved for disposal')"
   ]
  },
  {
   "cell_type": "code",
   "execution_count": 51,
   "id": "cd27a09f-80d7-4231-a3a3-c0ecdbca7371",
   "metadata": {},
   "outputs": [
    {
     "data": {
      "image/png": "[encoded data removed]",
      "text/plain": [
       "<Figure size 1200x400 with 1 Axes>"
      ]
     },
     "metadata": {},
     "output_type": "display_data"
    }
   ],
   "source": [
    "funcFreq_df = cat_df['Functional/ Non-functional'].value_counts().sort_index()\n",
    "fig, ax = plt.subplots(figsize=(12, 4))\n",
    "ax = funcFreq_df.plot(kind='bar',width=1.0)\n",
    "ax.set(xlabel = \"Asset condition\",\n",
    "       ylabel = \"Fequency\")\n",
    "plt.show()"
   ]
  },
  {
   "cell_type": "code",
   "execution_count": 62,
   "id": "920b2bbd-21a7-4d46-a416-b696e3160c01",
   "metadata": {},
   "outputs": [
    {
     "data": {
      "image/png": "[encoded data removed]",
      "text/plain": [
       "<Figure size 1200x400 with 1 Axes>"
      ]
     },
     "metadata": {},
     "output_type": "display_data"
    }
   ],
   "source": [
    "year_df = cat_df.copy()\n",
    "year_df['Year'] = cat_df['Date Of Installation'].dt.year\n",
    "yearFreq_df = year_df['Year'].value_counts().sort_index()\n",
    "fig, ax = plt.subplots(figsize=(12, 4))\n",
    "ax = yearFreq_df.plot(kind='bar',width=1.0)\n",
    "ax.set_title('Date of Installation grouped by year')\n",
    "ax.set(xlabel = \"Year\",\n",
    "       ylabel = \"Frequenct\")\n",
    "plt.show()"
   ]
  },
  {
   "cell_type": "markdown",
   "id": "2ec65988-6a66-4c4c-bb15-c81282370945",
   "metadata": {},
   "source": [
    "> 1906 is an anomaly. Filter cat_df to include only dates from 1990 onwards "
   ]
  },
  {
   "cell_type": "code",
   "execution_count": null,
   "id": "b0c4e1ad-48be-47b0-b952-26a2015cf7d5",
   "metadata": {},
   "outputs": [],
   "source": [
    "cat_df = cat_df[cat_df['Date Of Installation'].dt.year>=1990]"
   ]
  },
  {
   "cell_type": "markdown",
   "id": "ec5f941b-9e38-4487-aef1-9fb737837001",
   "metadata": {},
   "source": [
    "> All missing data, noisy data and duplicated data are handled"
   ]
  },
  {
   "cell_type": "markdown",
   "id": "e4ef8b33-0eb8-4013-bcff-e5aa9e78677c",
   "metadata": {},
   "source": [
    "## Part II: Data Transformation\n",
    "\n",
    "<ul>\n",
    "    <li> Data Normalization \n",
    "    <li> Data Aggregation\n",
    "    <li> Data Smoothing\n",
    "    <li> Data Discretization\n",
    "    <li> Data Encoding\n",
    "    <li> Attribute Construction\n",
    "<ul>"
   ]
  },
  {
   "cell_type": "markdown",
   "id": "5d217207-fb2a-4971-8597-13ad50f15ddf",
   "metadata": {},
   "source": [
    "> Perform data encoding on 'Category','Under Warranty','Functional/ Non-functional','Status'\n",
    "\n",
    "> Perform attribute constuction 'Age' of equipment "
   ]
  },
  {
   "cell_type": "code",
   "execution_count": 63,
   "id": "eed7a8b4-a7e2-4c64-b256-84f2961c2943",
   "metadata": {},
   "outputs": [
    {
     "name": "stderr",
     "output_type": "stream",
     "text": [
      "/var/folders/sq/z4mv25d17y3_fdz56x8p97nr0000gn/T/ipykernel_84167/947925428.py:2: SettingWithCopyWarning: \n",
      "A value is trying to be set on a copy of a slice from a DataFrame.\n",
      "Try using .loc[row_indexer,col_indexer] = value instead\n",
      "\n",
      "See the caveats in the documentation: https://pandas.pydata.org/pandas-docs/stable/user_guide/indexing.html#returning-a-view-versus-a-copy\n",
      "  cat_df['Age'] = year - cat_df['Date Of Installation'].dt.year\n"
     ]
    }
   ],
   "source": [
    "year = datetime.date.today().year\n",
    "cat_df['Age'] = year - cat_df['Date Of Installation'].dt.year\n",
    "cat_df = cat_df.drop(['Date Of Installation'], axis = 1)"
   ]
  },
  {
   "cell_type": "code",
   "execution_count": 86,
   "id": "e70c8fab-4091-4b9a-9641-3982d47aa5d4",
   "metadata": {},
   "outputs": [],
   "source": [
    "enc_df = cat_df.copy()"
   ]
  },
  {
   "cell_type": "code",
   "execution_count": 87,
   "id": "74ffa3e2-c6f8-4f3c-afe0-bfe4eb082a4b",
   "metadata": {},
   "outputs": [],
   "source": [
    "numerical_features = ['Age','Cost']\n",
    "scaler = StandardScaler()\n",
    "enc_df[numerical_features] = scaler.fit_transform(enc_df[numerical_features])"
   ]
  },
  {
   "cell_type": "code",
   "execution_count": 88,
   "id": "b0c14fe4-5280-48a0-b522-e6745717f417",
   "metadata": {},
   "outputs": [],
   "source": [
    "categorial_features = ['Under Warranty','Functional/ Non-functional','Status']\n",
    "enc_df = pd.get_dummies(enc_df, columns=categorial_features, prefix=categorial_features)"
   ]
  },
  {
   "cell_type": "code",
   "execution_count": 89,
   "id": "a18e9185-19f9-4493-84c4-840f5849c21e",
   "metadata": {},
   "outputs": [
    {
     "data": {
      "text/html": [
       "<div>\n",
       "<style scoped>\n",
       "    .dataframe tbody tr th:only-of-type {\n",
       "        vertical-align: middle;\n",
       "    }\n",
       "\n",
       "    .dataframe tbody tr th {\n",
       "        vertical-align: top;\n",
       "    }\n",
       "\n",
       "    .dataframe thead th {\n",
       "        text-align: right;\n",
       "    }\n",
       "</style>\n",
       "<table border=\"1\" class=\"dataframe\">\n",
       "  <thead>\n",
       "    <tr style=\"text-align: right;\">\n",
       "      <th></th>\n",
       "      <th>Category</th>\n",
       "      <th>Equipment Name</th>\n",
       "      <th>Cost</th>\n",
       "      <th>Age</th>\n",
       "      <th>Under Warranty_No</th>\n",
       "      <th>Under Warranty_Yes</th>\n",
       "      <th>Functional/ Non-functional_Active/in use</th>\n",
       "      <th>Functional/ Non-functional_Approved for disposal</th>\n",
       "      <th>Functional/ Non-functional_Not in use</th>\n",
       "      <th>Status_Available</th>\n",
       "      <th>Status_Not Available</th>\n",
       "    </tr>\n",
       "  </thead>\n",
       "  <tbody>\n",
       "    <tr>\n",
       "      <th>0</th>\n",
       "      <td>Diagnostic/Monitoring</td>\n",
       "      <td>ABG</td>\n",
       "      <td>4.034007</td>\n",
       "      <td>-0.434783</td>\n",
       "      <td>False</td>\n",
       "      <td>True</td>\n",
       "      <td>True</td>\n",
       "      <td>False</td>\n",
       "      <td>False</td>\n",
       "      <td>False</td>\n",
       "      <td>True</td>\n",
       "    </tr>\n",
       "    <tr>\n",
       "      <th>1</th>\n",
       "      <td>Diagnostic/Monitoring</td>\n",
       "      <td>ABG</td>\n",
       "      <td>4.034007</td>\n",
       "      <td>-0.434783</td>\n",
       "      <td>False</td>\n",
       "      <td>True</td>\n",
       "      <td>True</td>\n",
       "      <td>False</td>\n",
       "      <td>False</td>\n",
       "      <td>False</td>\n",
       "      <td>True</td>\n",
       "    </tr>\n",
       "    <tr>\n",
       "      <th>6</th>\n",
       "      <td>Laboratory</td>\n",
       "      <td>Automatic Tissue Processor</td>\n",
       "      <td>3.590517</td>\n",
       "      <td>-0.434783</td>\n",
       "      <td>True</td>\n",
       "      <td>False</td>\n",
       "      <td>True</td>\n",
       "      <td>False</td>\n",
       "      <td>False</td>\n",
       "      <td>True</td>\n",
       "      <td>False</td>\n",
       "    </tr>\n",
       "    <tr>\n",
       "      <th>7</th>\n",
       "      <td>Laboratory</td>\n",
       "      <td>Automatic Tissue Processor</td>\n",
       "      <td>3.590517</td>\n",
       "      <td>0.098612</td>\n",
       "      <td>True</td>\n",
       "      <td>False</td>\n",
       "      <td>False</td>\n",
       "      <td>False</td>\n",
       "      <td>True</td>\n",
       "      <td>False</td>\n",
       "      <td>True</td>\n",
       "    </tr>\n",
       "  </tbody>\n",
       "</table>\n",
       "</div>"
      ],
      "text/plain": [
       "                Category              Equipment Name      Cost       Age  \\\n",
       "0  Diagnostic/Monitoring                         ABG  4.034007 -0.434783   \n",
       "1  Diagnostic/Monitoring                         ABG  4.034007 -0.434783   \n",
       "6             Laboratory  Automatic Tissue Processor  3.590517 -0.434783   \n",
       "7             Laboratory  Automatic Tissue Processor  3.590517  0.098612   \n",
       "\n",
       "   Under Warranty_No  Under Warranty_Yes  \\\n",
       "0              False                True   \n",
       "1              False                True   \n",
       "6               True               False   \n",
       "7               True               False   \n",
       "\n",
       "   Functional/ Non-functional_Active/in use  \\\n",
       "0                                      True   \n",
       "1                                      True   \n",
       "6                                      True   \n",
       "7                                     False   \n",
       "\n",
       "   Functional/ Non-functional_Approved for disposal  \\\n",
       "0                                             False   \n",
       "1                                             False   \n",
       "6                                             False   \n",
       "7                                             False   \n",
       "\n",
       "   Functional/ Non-functional_Not in use  Status_Available  \\\n",
       "0                                  False             False   \n",
       "1                                  False             False   \n",
       "6                                  False              True   \n",
       "7                                   True             False   \n",
       "\n",
       "   Status_Not Available  \n",
       "0                  True  \n",
       "1                  True  \n",
       "6                 False  \n",
       "7                  True  "
      ]
     },
     "execution_count": 89,
     "metadata": {},
     "output_type": "execute_result"
    }
   ],
   "source": [
    "enc_df.head(4)"
   ]
  },
  {
   "cell_type": "code",
   "execution_count": 92,
   "id": "6dc1ef64-d951-4ce8-996f-4d641d813bbc",
   "metadata": {},
   "outputs": [],
   "source": [
    "enc_df.iloc[:,4:] = enc_df.iloc[:,4:].astype(int)"
   ]
  },
  {
   "cell_type": "code",
   "execution_count": 94,
   "id": "6ef34fd0-c875-4c2b-950a-221a5ab65781",
   "metadata": {},
   "outputs": [
    {
     "data": {
      "text/html": [
       "<div>\n",
       "<style scoped>\n",
       "    .dataframe tbody tr th:only-of-type {\n",
       "        vertical-align: middle;\n",
       "    }\n",
       "\n",
       "    .dataframe tbody tr th {\n",
       "        vertical-align: top;\n",
       "    }\n",
       "\n",
       "    .dataframe thead th {\n",
       "        text-align: right;\n",
       "    }\n",
       "</style>\n",
       "<table border=\"1\" class=\"dataframe\">\n",
       "  <thead>\n",
       "    <tr style=\"text-align: right;\">\n",
       "      <th></th>\n",
       "      <th>Category</th>\n",
       "      <th>Equipment Name</th>\n",
       "      <th>Cost</th>\n",
       "      <th>Age</th>\n",
       "      <th>Under Warranty_No</th>\n",
       "      <th>Under Warranty_Yes</th>\n",
       "      <th>Functional/ Non-functional_Active/in use</th>\n",
       "      <th>Functional/ Non-functional_Approved for disposal</th>\n",
       "      <th>Functional/ Non-functional_Not in use</th>\n",
       "      <th>Status_Available</th>\n",
       "      <th>Status_Not Available</th>\n",
       "    </tr>\n",
       "  </thead>\n",
       "  <tbody>\n",
       "    <tr>\n",
       "      <th>0</th>\n",
       "      <td>Diagnostic/Monitoring</td>\n",
       "      <td>ABG</td>\n",
       "      <td>4.034007</td>\n",
       "      <td>-0.434783</td>\n",
       "      <td>0</td>\n",
       "      <td>1</td>\n",
       "      <td>1</td>\n",
       "      <td>0</td>\n",
       "      <td>0</td>\n",
       "      <td>0</td>\n",
       "      <td>1</td>\n",
       "    </tr>\n",
       "    <tr>\n",
       "      <th>1</th>\n",
       "      <td>Diagnostic/Monitoring</td>\n",
       "      <td>ABG</td>\n",
       "      <td>4.034007</td>\n",
       "      <td>-0.434783</td>\n",
       "      <td>0</td>\n",
       "      <td>1</td>\n",
       "      <td>1</td>\n",
       "      <td>0</td>\n",
       "      <td>0</td>\n",
       "      <td>0</td>\n",
       "      <td>1</td>\n",
       "    </tr>\n",
       "    <tr>\n",
       "      <th>6</th>\n",
       "      <td>Laboratory</td>\n",
       "      <td>Automatic Tissue Processor</td>\n",
       "      <td>3.590517</td>\n",
       "      <td>-0.434783</td>\n",
       "      <td>1</td>\n",
       "      <td>0</td>\n",
       "      <td>1</td>\n",
       "      <td>0</td>\n",
       "      <td>0</td>\n",
       "      <td>1</td>\n",
       "      <td>0</td>\n",
       "    </tr>\n",
       "    <tr>\n",
       "      <th>7</th>\n",
       "      <td>Laboratory</td>\n",
       "      <td>Automatic Tissue Processor</td>\n",
       "      <td>3.590517</td>\n",
       "      <td>0.098612</td>\n",
       "      <td>1</td>\n",
       "      <td>0</td>\n",
       "      <td>0</td>\n",
       "      <td>0</td>\n",
       "      <td>1</td>\n",
       "      <td>0</td>\n",
       "      <td>1</td>\n",
       "    </tr>\n",
       "  </tbody>\n",
       "</table>\n",
       "</div>"
      ],
      "text/plain": [
       "                Category              Equipment Name      Cost       Age  \\\n",
       "0  Diagnostic/Monitoring                         ABG  4.034007 -0.434783   \n",
       "1  Diagnostic/Monitoring                         ABG  4.034007 -0.434783   \n",
       "6             Laboratory  Automatic Tissue Processor  3.590517 -0.434783   \n",
       "7             Laboratory  Automatic Tissue Processor  3.590517  0.098612   \n",
       "\n",
       "   Under Warranty_No  Under Warranty_Yes  \\\n",
       "0                  0                   1   \n",
       "1                  0                   1   \n",
       "6                  1                   0   \n",
       "7                  1                   0   \n",
       "\n",
       "   Functional/ Non-functional_Active/in use  \\\n",
       "0                                         1   \n",
       "1                                         1   \n",
       "6                                         1   \n",
       "7                                         0   \n",
       "\n",
       "   Functional/ Non-functional_Approved for disposal  \\\n",
       "0                                                 0   \n",
       "1                                                 0   \n",
       "6                                                 0   \n",
       "7                                                 0   \n",
       "\n",
       "   Functional/ Non-functional_Not in use  Status_Available  \\\n",
       "0                                      0                 0   \n",
       "1                                      0                 0   \n",
       "6                                      0                 1   \n",
       "7                                      1                 0   \n",
       "\n",
       "   Status_Not Available  \n",
       "0                     1  \n",
       "1                     1  \n",
       "6                     0  \n",
       "7                     1  "
      ]
     },
     "execution_count": 94,
     "metadata": {},
     "output_type": "execute_result"
    }
   ],
   "source": [
    "enc_df.head(4)"
   ]
  },
  {
   "cell_type": "code",
   "execution_count": 96,
   "id": "87b3a3c2-7a58-4f31-92ac-f70bbbafbad8",
   "metadata": {},
   "outputs": [
    {
     "data": {
      "text/plain": [
       "<Axes: >"
      ]
     },
     "execution_count": 96,
     "metadata": {},
     "output_type": "execute_result"
    },
    {
     "data": {
      "image/png": "[encoded data removed]",
      "text/plain": [
       "<Figure size 640x480 with 2 Axes>"
      ]
     },
     "metadata": {},
     "output_type": "display_data"
    }
   ],
   "source": [
    "corr = enc_df.iloc[:,2:].corr()\n",
    "mask = np.triu(np.ones_like(corr))\n",
    "sns.heatmap(corr, annot=True, cmap='RdBu', vmin=-1, mask=mask)"
   ]
  }
 ],
 "metadata": {
  "kernelspec": {
   "display_name": "Python 3 (ipykernel)",
   "language": "python",
   "name": "python3"
  },
  "language_info": {
   "codemirror_mode": {
    "name": "ipython",
    "version": 3
   },
   "file_extension": ".py",
   "mimetype": "text/x-python",
   "name": "python",
   "nbconvert_exporter": "python",
   "pygments_lexer": "ipython3",
   "version": "3.8.17"
  }
 },
 "nbformat": 4,
 "nbformat_minor": 5
}
